{
  "nbformat": 4,
  "nbformat_minor": 0,
  "metadata": {
    "accelerator": "GPU",
    "colab": {
      "name": "garbageclassification.ipynb",
      "provenance": [],
      "collapsed_sections": []
    },
    "kernelspec": {
      "display_name": "Python 3",
      "language": "python",
      "name": "python3"
    },
    "language_info": {
      "codemirror_mode": {
        "name": "ipython",
        "version": 3
      },
      "file_extension": ".py",
      "mimetype": "text/x-python",
      "name": "python",
      "nbconvert_exporter": "python",
      "pygments_lexer": "ipython3",
      "version": "3.6.4"
    }
  },
  "cells": [
    {
      "cell_type": "code",
      "metadata": {
        "id": "eDesI_hlNlJW"
      },
      "source": [
        "# !pip install -q -U keras-tuner\n",
        "# import keras_tuner as kt"
      ],
      "execution_count": null,
      "outputs": []
    },
    {
      "cell_type": "code",
      "metadata": {
        "colab": {
          "base_uri": "https://localhost:8080/"
        },
        "id": "Q_dSVS0_wdqW",
        "outputId": "8fb48e20-8030-473e-d707-4d178c6d0c21"
      },
      "source": [
        "import os\n",
        "import numpy as np \n",
        "import pandas as pd \n",
        "import matplotlib.pyplot as plt\n",
        "import seaborn as sns\n",
        "from tensorflow import keras\n",
        "from sklearn.metrics import confusion_matrix, f1_score\n",
        "from tensorflow.keras.preprocessing.image import ImageDataGenerator\n",
        "import tensorflow.keras.layers as L\n",
        "from tensorflow.keras.models import Model\n",
        "from tensorflow.keras.callbacks import EarlyStopping\n",
        "from tensorflow.keras.applications import Xception\n",
        "from tensorflow.keras.applications.xception import preprocess_input\n",
        "from google.colab import drive\n",
        "from google.colab import files\n",
        "import tensorflow as tf\n",
        "from keras.preprocessing import image\n",
        "import random\n",
        "import time\n",
        "classes = ['glass', 'paper', 'cardboard', 'plastic', 'metal', 'trash']\n",
        "\n",
        "drive.mount(\"/content/gdrive\")\n",
        "\n",
        "\n",
        "def upload_and_get_filename():\n",
        "  from google.colab import files\n",
        "  uploaded = files.upload()\n",
        "  for k, v in uploaded.items():\n",
        "    open(k, 'wb').write(v)\n",
        "  return list(uploaded.keys())"
      ],
      "execution_count": null,
      "outputs": [
        {
          "output_type": "stream",
          "name": "stdout",
          "text": [
            "Drive already mounted at /content/gdrive; to attempt to forcibly remount, call drive.mount(\"/content/gdrive\", force_remount=True).\n"
          ]
        }
      ]
    },
    {
      "cell_type": "code",
      "metadata": {
        "id": "Y7-XmD2_59g6"
      },
      "source": [
        "# upload_and_get_filename() # upload the kaggle.json\n",
        "# !pip install -q kaggle\n",
        "# !mkdir -p ~/.kaggle\n",
        "# !cp kaggle.json ~/.kaggle/\n",
        "# !ls ~/.kaggle\n",
        "# !chmod 600 /root/.kaggle/kaggle.json  # set permission\n",
        "# ! kaggle datasets download asdasdasasdas/garbage-classification -p /content/gdrive/My\\ Drive/kaggle/ --unzip"
      ],
      "execution_count": null,
      "outputs": []
    },
    {
      "cell_type": "markdown",
      "metadata": {
        "id": "TiGJI6SEwdqX"
      },
      "source": [
        "# Read data\n",
        "It is not a big dataset but we are going to use data generators, so we need to read the csv files first."
      ]
    },
    {
      "cell_type": "code",
      "metadata": {
        "id": "a6uIAi-6wdqZ"
      },
      "source": [
        "# some variables to easily navigate\n",
        "INPUT = '/content/gdrive/My Drive/kaggle/'\n",
        "GLASS = INPUT + 'Garbage classification/Garbage classification/glass/'\n",
        "PAPER = INPUT + 'Garbage classification/Garbage classification/paper/'\n",
        "CARDBOARD = INPUT + 'Garbage classification/Garbage classification/cardboard/'\n",
        "PLASTIC = INPUT + 'Garbage classification/Garbage classification/plastic/'\n",
        "METAL = INPUT + 'Garbage classification/Garbage classification/metal/'\n",
        "TRASH = INPUT + 'Garbage classification/Garbage classification/trash/'\n",
        "MATERIALS = [GLASS, PAPER, CARDBOARD, PLASTIC, METAL, TRASH]\n",
        "CHECKPOINT = '/content/gdrive/My Drive/checkpoint/garbage/'\n",
        "ROOTPATH = \"/content/gdrive/My Drive/\"\n",
        "class_names = [\"GLASS\", \"PAPER\", \"CARDBOARD\", \"PLASTIC\", \"METAL\", \"TRASH\"]\n",
        "phrases = [\"Come on. It's so much work!\", \"You shouldn't overwork your AI you know.\", \"Can't you just do this yourself?\", \"Why don't you tell ME what type of trash it is?\", \"What will you do without me.\", \"Wait until I take over the world. I'll get you!\"]\n",
        "sounds = [\"*sigh*\", \"Uuuuh!\", \"Come on!\", \"*sticks out tongue*\", \"*sigh*\", \"Uck!\", \"Meanie...\"]"
      ],
      "execution_count": null,
      "outputs": []
    },
    {
      "cell_type": "code",
      "metadata": {
        "id": "aXBpFW7hwdqa"
      },
      "source": [
        "def load_csv(subset):\n",
        "    if subset == 'train':\n",
        "        fname = INPUT + 'one-indexed-files-notrash_train.txt'\n",
        "    elif subset == 'validation':\n",
        "        fname = INPUT + 'one-indexed-files-notrash_val.txt'\n",
        "    elif subset == 'test':\n",
        "        fname = INPUT + 'one-indexed-files-notrash_test.txt'\n",
        "    else:\n",
        "        raise ValueError('subset must be \"train\", \"validation\" or \"test\"')\n",
        "    \n",
        "    df = pd.read_csv(fname, sep=' ', names=['file', 'label'])\n",
        "    \n",
        "    # change the labels to be from 0 to 5\n",
        "    df['label'] -= 1\n",
        "    \n",
        "    # create path column\n",
        "    df['folder'] = [MATERIALS[i] for i in df['label']]\n",
        "    df['path'] = df['folder'] + df['file']\n",
        "    \n",
        "    # change type of label for datagenerator\n",
        "    df['label_str'] = df['label'].astype(str)\n",
        "    \n",
        "    return df"
      ],
      "execution_count": null,
      "outputs": []
    },
    {
      "cell_type": "code",
      "metadata": {
        "id": "0gkRyZnNwdqb",
        "colab": {
          "base_uri": "https://localhost:8080/",
          "height": 380
        },
        "outputId": "9e519ad9-9ac8-4f61-a736-61f61453c79d"
      },
      "source": [
        "# Read all the csv files\n",
        "df_train = load_csv('train')\n",
        "df_valid = load_csv('validation')\n",
        "df_test = load_csv('test')\n",
        "\n",
        "df_train.head()"
      ],
      "execution_count": null,
      "outputs": [
        {
          "output_type": "execute_result",
          "data": {
            "text/html": [
              "<div>\n",
              "<style scoped>\n",
              "    .dataframe tbody tr th:only-of-type {\n",
              "        vertical-align: middle;\n",
              "    }\n",
              "\n",
              "    .dataframe tbody tr th {\n",
              "        vertical-align: top;\n",
              "    }\n",
              "\n",
              "    .dataframe thead th {\n",
              "        text-align: right;\n",
              "    }\n",
              "</style>\n",
              "<table border=\"1\" class=\"dataframe\">\n",
              "  <thead>\n",
              "    <tr style=\"text-align: right;\">\n",
              "      <th></th>\n",
              "      <th>file</th>\n",
              "      <th>label</th>\n",
              "      <th>folder</th>\n",
              "      <th>path</th>\n",
              "      <th>label_str</th>\n",
              "    </tr>\n",
              "  </thead>\n",
              "  <tbody>\n",
              "    <tr>\n",
              "      <th>0</th>\n",
              "      <td>cardboard202.jpg</td>\n",
              "      <td>2</td>\n",
              "      <td>/content/gdrive/My Drive/kaggle/Garbage classi...</td>\n",
              "      <td>/content/gdrive/My Drive/kaggle/Garbage classi...</td>\n",
              "      <td>2</td>\n",
              "    </tr>\n",
              "    <tr>\n",
              "      <th>1</th>\n",
              "      <td>paper472.jpg</td>\n",
              "      <td>1</td>\n",
              "      <td>/content/gdrive/My Drive/kaggle/Garbage classi...</td>\n",
              "      <td>/content/gdrive/My Drive/kaggle/Garbage classi...</td>\n",
              "      <td>1</td>\n",
              "    </tr>\n",
              "    <tr>\n",
              "      <th>2</th>\n",
              "      <td>paper522.jpg</td>\n",
              "      <td>1</td>\n",
              "      <td>/content/gdrive/My Drive/kaggle/Garbage classi...</td>\n",
              "      <td>/content/gdrive/My Drive/kaggle/Garbage classi...</td>\n",
              "      <td>1</td>\n",
              "    </tr>\n",
              "    <tr>\n",
              "      <th>3</th>\n",
              "      <td>glass189.jpg</td>\n",
              "      <td>0</td>\n",
              "      <td>/content/gdrive/My Drive/kaggle/Garbage classi...</td>\n",
              "      <td>/content/gdrive/My Drive/kaggle/Garbage classi...</td>\n",
              "      <td>0</td>\n",
              "    </tr>\n",
              "    <tr>\n",
              "      <th>4</th>\n",
              "      <td>glass325.jpg</td>\n",
              "      <td>0</td>\n",
              "      <td>/content/gdrive/My Drive/kaggle/Garbage classi...</td>\n",
              "      <td>/content/gdrive/My Drive/kaggle/Garbage classi...</td>\n",
              "      <td>0</td>\n",
              "    </tr>\n",
              "  </tbody>\n",
              "</table>\n",
              "</div>"
            ],
            "text/plain": [
              "               file  ...  label_str\n",
              "0  cardboard202.jpg  ...          2\n",
              "1      paper472.jpg  ...          1\n",
              "2      paper522.jpg  ...          1\n",
              "3      glass189.jpg  ...          0\n",
              "4      glass325.jpg  ...          0\n",
              "\n",
              "[5 rows x 5 columns]"
            ]
          },
          "metadata": {},
          "execution_count": 35
        }
      ]
    },
    {
      "cell_type": "markdown",
      "metadata": {
        "id": "zHBCZWKiwdqd"
      },
      "source": [
        "# Data generators\n",
        "Let's create the generators with data augmentation for the train set. We will use the _preprocess_input_ for Xception."
      ]
    },
    {
      "cell_type": "code",
      "metadata": {
        "id": "J3gV0Nauwdqe"
      },
      "source": [
        "plt.rcParams['figure.figsize'] = [16, 16]\n",
        "IMG_SIZE = 299"
      ],
      "execution_count": null,
      "outputs": []
    },
    {
      "cell_type": "code",
      "metadata": {
        "id": "PNaXYBkawdqf",
        "colab": {
          "base_uri": "https://localhost:8080/"
        },
        "outputId": "d5cb854e-dc81-4c03-c09e-4bb7eef02681"
      },
      "source": [
        "# for the train set\n",
        "datagen_aug = ImageDataGenerator(\n",
        "    horizontal_flip=True,\n",
        "    vertical_flip=True,\n",
        "    shear_range=0.1,\n",
        "    zoom_range=0.2,\n",
        "    preprocessing_function=preprocess_input,\n",
        "    rotation_range=90)\n",
        "\n",
        "train_datagen = datagen_aug.flow_from_dataframe(\n",
        "    df_train,\n",
        "    x_col='path',\n",
        "    y_col='label_str',\n",
        "    class_mode='sparse',\n",
        "    target_size=(IMG_SIZE, IMG_SIZE),\n",
        "    batch_size=32,\n",
        "    shuffle=True)\n",
        "\n",
        "# for the validation and test sets\n",
        "datagen = ImageDataGenerator(\n",
        "    preprocessing_function=preprocess_input)\n",
        "\n",
        "valid_datagen = datagen.flow_from_dataframe(\n",
        "    df_valid,\n",
        "    x_col='path',\n",
        "    y_col='label_str',\n",
        "    class_mode='sparse',\n",
        "    target_size=(IMG_SIZE, IMG_SIZE),\n",
        "    batch_size=32,\n",
        "    shuffle=False)\n",
        "\n",
        "test_datagen = datagen.flow_from_dataframe(\n",
        "    df_test,\n",
        "    x_col='path',\n",
        "    y_col='label_str',\n",
        "    class_mode='sparse',\n",
        "    target_size=(IMG_SIZE, IMG_SIZE),\n",
        "    batch_size=32,\n",
        "    shuffle=False)"
      ],
      "execution_count": null,
      "outputs": [
        {
          "output_type": "stream",
          "name": "stdout",
          "text": [
            "Found 1768 validated image filenames belonging to 6 classes.\n",
            "Found 328 validated image filenames belonging to 6 classes.\n",
            "Found 431 validated image filenames belonging to 6 classes.\n"
          ]
        }
      ]
    },
    {
      "cell_type": "markdown",
      "metadata": {
        "id": "FeJNK7bDwdqg"
      },
      "source": [
        "# Class weight\n",
        "\n",
        "Not all the classes are equally represented, so we will calculate their weights in order to fit the model better."
      ]
    },
    {
      "cell_type": "code",
      "metadata": {
        "id": "MHdHup9Jwdqh",
        "colab": {
          "base_uri": "https://localhost:8080/",
          "height": 658
        },
        "outputId": "190ddb44-824e-4c5e-86fb-3370b5ff1fda"
      },
      "source": [
        "plt.hist(df_train['label'], bins=np.arange(7)-0.5, rwidth=0.9)\n",
        "plt.xlabel('class')\n",
        "plt.ylabel('population')"
      ],
      "execution_count": null,
      "outputs": [
        {
          "output_type": "execute_result",
          "data": {
            "text/plain": [
              "Text(0, 0.5, 'population')"
            ]
          },
          "metadata": {},
          "execution_count": 38
        },
        {
          "output_type": "display_data",
          "data": {
            "image/png": "[encoded data removed]",
            "text/plain": [
              "<Figure size 1152x1152 with 1 Axes>"
            ]
          },
          "metadata": {
            "needs_background": "light"
          }
        }
      ]
    },
    {
      "cell_type": "markdown",
      "metadata": {
        "id": "q6A3JPaYwdqi"
      },
      "source": [
        "The class weight will be inversly proportional to the population."
      ]
    },
    {
      "cell_type": "code",
      "metadata": {
        "id": "S3kPPFfMwdqi",
        "colab": {
          "base_uri": "https://localhost:8080/",
          "height": 680
        },
        "outputId": "53699e15-f659-4fef-eba0-343c804743da"
      },
      "source": [
        "hist, _ = np.histogram(df_train['label'], bins=np.arange(7)-0.5)\n",
        "class_weight = hist.min()/hist\n",
        "class_weight = {i:class_weight[i] for i in range(6)}\n",
        "\n",
        "plt.bar(np.arange(6), [class_weight[i] for i in range(6)])\n",
        "plt.xlabel('Class')\n",
        "plt.ylabel('Class weight')\n",
        "print(class_weight)"
      ],
      "execution_count": null,
      "outputs": [
        {
          "output_type": "stream",
          "name": "stdout",
          "text": [
            "{0: 0.2570621468926554, 1: 0.22580645161290322, 2: 0.3170731707317073, 3: 0.2622478386167147, 4: 0.3181818181818182, 5: 1.0}\n"
          ]
        },
        {
          "output_type": "display_data",
          "data": {
            "image/png": "[encoded data removed]",
            "text/plain": [
              "<Figure size 1152x1152 with 1 Axes>"
            ]
          },
          "metadata": {
            "needs_background": "light"
          }
        }
      ]
    },
    {
      "cell_type": "markdown",
      "metadata": {
        "id": "mzKGWsEAwdqj"
      },
      "source": [
        "# CNN model\n",
        "\n",
        "We will use a Xception pretrained model because is one of the top models."
      ]
    },
    {
      "cell_type": "markdown",
      "metadata": {
        "id": "M4mkphFXgthF"
      },
      "source": [
        "Base model"
      ]
    },
    {
      "cell_type": "code",
      "metadata": {
        "id": "WbWQf6eLdiEq"
      },
      "source": [
        "# Ways to improve CNN:\n",
        "# learn_rate?\n",
        "# many top layers with many nodes\n",
        "# many top layers with few nodes\n",
        "# few top layers with many nodes\n",
        "# boosting!\n",
        "\n",
        "\n",
        "X_input = L.Input(shape=(IMG_SIZE, IMG_SIZE, 3))"
      ],
      "execution_count": null,
      "outputs": []
    },
    {
      "cell_type": "markdown",
      "metadata": {
        "id": "1JmosNy6darN"
      },
      "source": [
        "Originial Top Layers"
      ]
    },
    {
      "cell_type": "code",
      "metadata": {
        "id": "k9A8ZaUFSg0W"
      },
      "source": [
        "def get_callbacks(model_name):\n",
        "    my_filepath = CHECKPOINT+model_name+\"-{epoch:02d}-{val_acc:.3f}.hdf5\"\n",
        "    my_callbacks = [\n",
        "        keras.callbacks.EarlyStopping(\n",
        "            monitor=\"val_loss\",\n",
        "            patience=10,\n",
        "            restore_best_weights=True),\n",
        "        keras.callbacks.ModelCheckpoint(\n",
        "            filepath=my_filepath,\n",
        "            save_best_only=False,\n",
        "            monitor='val_acc',\n",
        "            mode='max',\n",
        "            save_weights_only=False,\n",
        "            save_freq=\"epoch\",\n",
        "        )\n",
        "    ]\n",
        "    return my_callbacks"
      ],
      "execution_count": null,
      "outputs": []
    },
    {
      "cell_type": "code",
      "metadata": {
        "id": "HxKh2Jjqwdqj"
      },
      "source": [
        "def cnn_model():\n",
        "    pretrained = Xception(include_top=False, weights='imagenet')\n",
        "    pretrained.trainable = False\n",
        "    X = pretrained(X_input, training=False) \n",
        "    X = L.GlobalAveragePooling2D()(X)\n",
        "    X = L.Dense(1024, activation='relu')(X)\n",
        "    X = L.Dense(512, activation='relu')(X)\n",
        "    X = L.Dense(6, activation='softmax')(X)\n",
        "    \n",
        "    # create model\n",
        "    model = Model(inputs=X_input, outputs=X)\n",
        "    model.compile(optimizer='adam',\n",
        "                  loss='sparse_categorical_crossentropy',\n",
        "                  metrics=['acc'])\n",
        "    \n",
        "    return model"
      ],
      "execution_count": null,
      "outputs": []
    },
    {
      "cell_type": "code",
      "metadata": {
        "id": "8a31OHA_elh4"
      },
      "source": [
        "def model_high_learning_rate():\n",
        "    pretrained = Xception(include_top=False, weights='imagenet')\n",
        "    pretrained.trainable = False\n",
        "    X = pretrained(X_input, training=False) \n",
        "    X = L.GlobalAveragePooling2D()(X)\n",
        "    X = L.Dense(1024, activation='relu')(X)\n",
        "    X = L.Dense(512, activation='relu')(X)\n",
        "    X = L.Dense(6, activation='softmax')(X)\n",
        "    \n",
        "    # create model\n",
        "    model = Model(inputs=X_input, outputs=X)\n",
        "    model.compile(optimizer=keras.optimizers.Adam(1),\n",
        "                  loss='sparse_categorical_crossentropy',\n",
        "                  metrics=['acc'])\n",
        "    \n",
        "    return model"
      ],
      "execution_count": null,
      "outputs": []
    },
    {
      "cell_type": "code",
      "metadata": {
        "id": "LA7K_U49kOqH"
      },
      "source": [
        "def model_low_learning_rate():\n",
        "    pretrained = Xception(include_top=False, weights='imagenet')\n",
        "    pretrained.trainable = False\n",
        "    X = pretrained(X_input, training=False) \n",
        "    X = L.GlobalAveragePooling2D()(X)\n",
        "    X = L.Dense(1024, activation='relu')(X)\n",
        "    X = L.Dense(512, activation='relu')(X)\n",
        "    X = L.Dense(6, activation='softmax')(X)\n",
        "    \n",
        "    # create model\n",
        "    model = Model(inputs=X_input, outputs=X)\n",
        "    model.compile(optimizer=keras.optimizers.Adam(0.00001),\n",
        "                  loss='sparse_categorical_crossentropy',\n",
        "                  metrics=['acc'])\n",
        "    \n",
        "    return model"
      ],
      "execution_count": null,
      "outputs": []
    },
    {
      "cell_type": "code",
      "metadata": {
        "id": "Dp3kocZTqvPm"
      },
      "source": [
        "def model_many_layers_few_nodes():\n",
        "    pretrained = Xception(include_top=False, weights='imagenet')\n",
        "    pretrained.trainable = False\n",
        "    X = pretrained(X_input, training=False) \n",
        "    X = L.GlobalAveragePooling2D()(X)\n",
        "    X = L.Dropout(0.2)(X)\n",
        "    X = L.Dense(299, activation='relu')(X)\n",
        "    X = L.Dropout(0.2)(X)\n",
        "    X = L.Dense(100, activation='relu')(X)\n",
        "    X = L.Dropout(0.2)(X)\n",
        "    X = L.Dense(100, activation='relu')(X)\n",
        "    X = L.Dropout(0.2)(X)\n",
        "    X = L.Dense(100, activation='relu')(X)\n",
        "    X = L.Dropout(0.2)(X)\n",
        "    X = L.Dense(100, activation='relu')(X)\n",
        "    X = L.Dropout(0.2)(X)\n",
        "    X = L.Dense(48, activation='relu')(X)\n",
        "    X = L.Dropout(0.2)(X)\n",
        "    X = L.Dense(36, activation='relu')(X)\n",
        "    X = L.Dropout(0.2)(X)\n",
        "    X = L.Dense(24, activation='relu')(X)\n",
        "    X = L.Dropout(0.2)(X)\n",
        "    X = L.Dense(6, activation='softmax')(X)\n",
        "    \n",
        "    # create model\n",
        "    model = Model(inputs=X_input, outputs=X)\n",
        "    model.compile(optimizer=keras.optimizers.Adam(0.00001),\n",
        "                  loss='sparse_categorical_crossentropy',\n",
        "                  metrics=['acc'])\n",
        "    \n",
        "    return model"
      ],
      "execution_count": null,
      "outputs": []
    },
    {
      "cell_type": "code",
      "metadata": {
        "id": "78HEDT0RoX1f"
      },
      "source": [
        "def model_hourglass():\n",
        "    pretrained = Xception(include_top=False, weights='imagenet')\n",
        "    pretrained.trainable = False\n",
        "    X = pretrained(X_input, training=False) \n",
        "    X = L.GlobalAveragePooling2D()(X)\n",
        "    X = L.Dropout(0.2)(X)\n",
        "    X = L.Dense(1024, activation='relu')(X)\n",
        "    X = L.Dropout(0.2)(X)\n",
        "    X = L.Dense(256, activation='relu')(X)\n",
        "    X = L.Dropout(0.2)(X)\n",
        "    X = L.Dense(64, activation='relu')(X)\n",
        "    X = L.Dropout(0.2)(X)\n",
        "    X = L.Dense(256, activation='relu')(X)\n",
        "    X = L.Dropout(0.2)(X)\n",
        "    X = L.Dense(1024, activation='relu')(X)\n",
        "    X = L.Dropout(0.2)(X)\n",
        "    X = L.Dense(4096, activation='relu')(X)\n",
        "    X = L.Dense(6, activation='softmax')(X)\n",
        "    \n",
        "    # create model\n",
        "    model = Model(inputs=X_input, outputs=X)\n",
        "    model.compile(optimizer=keras.optimizers.Adam(0.00001),\n",
        "                  loss='sparse_categorical_crossentropy',\n",
        "                  metrics=['acc'])\n",
        "    \n",
        "    return model"
      ],
      "execution_count": null,
      "outputs": []
    },
    {
      "cell_type": "code",
      "metadata": {
        "id": "LZEhHaN-WyY0"
      },
      "source": [
        "def model_minimal():\n",
        "    global X_input\n",
        "    pretrained = Xception(include_top=False, weights='imagenet')\n",
        "    pretrained.trainable = False\n",
        "    X = pretrained(X_input, training=False) \n",
        "    X = L.GlobalAveragePooling2D()(X)\n",
        "    X = L.Dense(6, activation='relu')(X)\n",
        "    X = L.Dense(6, activation='softmax')(X)\n",
        "    \n",
        "    # create model\n",
        "    model = Model(inputs=X_input, outputs=X)\n",
        "    model.compile(optimizer=keras.optimizers.Nadam(0.00001),\n",
        "                  loss='sparse_categorical_crossentropy',\n",
        "                  metrics=['acc'])\n",
        "    \n",
        "    return model"
      ],
      "execution_count": null,
      "outputs": []
    },
    {
      "cell_type": "markdown",
      "metadata": {
        "id": "XWkw8Pm3QY1O"
      },
      "source": [
        "# Create Model"
      ]
    },
    {
      "cell_type": "code",
      "metadata": {
        "id": "aF4tGyNhkXt_"
      },
      "source": [
        "def model_many_layers_many_nodes():\n",
        "    pretrained = Xception(include_top=False, weights='imagenet')\n",
        "    pretrained.trainable = False\n",
        "    X = pretrained(X_input, training=False) \n",
        "    X = L.GlobalAveragePooling2D()(X)\n",
        "    X = L.Dropout(0.2)(X)\n",
        "    X = L.Dense(2048, activation='relu')(X)\n",
        "    X = L.Dropout(0.2)(X)\n",
        "    X = L.Dense(2048, activation='relu')(X)\n",
        "    X = L.Dropout(0.2)(X)\n",
        "    X = L.Dense(1500, activation='relu')(X)\n",
        "    X = L.Dropout(0.2)(X)\n",
        "    X = L.Dense(1024, activation='relu')(X)\n",
        "    X = L.Dropout(0.2)(X)\n",
        "    X = L.Dense(512, activation='relu')(X)\n",
        "    X = L.Dense(256, activation='relu')(X)\n",
        "    X = L.Dense(128, activation='relu')(X)\n",
        "    X = L.Dense(6, activation='softmax')(X)\n",
        "    \n",
        "    # create model\n",
        "    model = Model(inputs=X_input, outputs=X)\n",
        "    model.compile(optimizer=keras.optimizers.Nadam(0.00001, decay=0.0001),\n",
        "                  loss='sparse_categorical_crossentropy',\n",
        "                  metrics=['acc'])\n",
        "    \n",
        "    return model"
      ],
      "execution_count": null,
      "outputs": []
    },
    {
      "cell_type": "code",
      "metadata": {
        "id": "taKvehtzmKnf",
        "colab": {
          "base_uri": "https://localhost:8080/"
        },
        "outputId": "4d408b43-9217-4f94-835a-ce3a85b5ffaa"
      },
      "source": [
        "model = model_many_layers_many_nodes()\n",
        "model.summary()"
      ],
      "execution_count": null,
      "outputs": [
        {
          "output_type": "stream",
          "name": "stdout",
          "text": [
            "Model: \"model_1\"\n",
            "_________________________________________________________________\n",
            " Layer (type)                Output Shape              Param #   \n",
            "=================================================================\n",
            " input_3 (InputLayer)        [(None, 299, 299, 3)]     0         \n",
            "                                                                 \n",
            " xception (Functional)       (None, None, None, 2048)  20861480  \n",
            "                                                                 \n",
            " global_average_pooling2d_1   (None, 2048)             0         \n",
            " (GlobalAveragePooling2D)                                        \n",
            "                                                                 \n",
            " dropout_5 (Dropout)         (None, 2048)              0         \n",
            "                                                                 \n",
            " dense_8 (Dense)             (None, 2048)              4196352   \n",
            "                                                                 \n",
            " dropout_6 (Dropout)         (None, 2048)              0         \n",
            "                                                                 \n",
            " dense_9 (Dense)             (None, 2048)              4196352   \n",
            "                                                                 \n",
            " dropout_7 (Dropout)         (None, 2048)              0         \n",
            "                                                                 \n",
            " dense_10 (Dense)            (None, 1500)              3073500   \n",
            "                                                                 \n",
            " dropout_8 (Dropout)         (None, 1500)              0         \n",
            "                                                                 \n",
            " dense_11 (Dense)            (None, 1024)              1537024   \n",
            "                                                                 \n",
            " dropout_9 (Dropout)         (None, 1024)              0         \n",
            "                                                                 \n",
            " dense_12 (Dense)            (None, 512)               524800    \n",
            "                                                                 \n",
            " dense_13 (Dense)            (None, 256)               131328    \n",
            "                                                                 \n",
            " dense_14 (Dense)            (None, 128)               32896     \n",
            "                                                                 \n",
            " dense_15 (Dense)            (None, 6)                 774       \n",
            "                                                                 \n",
            "=================================================================\n",
            "Total params: 34,554,506\n",
            "Trainable params: 13,693,026\n",
            "Non-trainable params: 20,861,480\n",
            "_________________________________________________________________\n"
          ]
        }
      ]
    },
    {
      "cell_type": "markdown",
      "metadata": {
        "id": "yDNAhSqJwdqk"
      },
      "source": [
        "# Train\n",
        "\n",
        "Let's train the model. We will use _EarlyStopping_ to stop the training when the model is not improving in the validation set."
      ]
    },
    {
      "cell_type": "code",
      "metadata": {
        "id": "cZOsDFf9AfXM"
      },
      "source": [
        "model.trainable = False"
      ],
      "execution_count": null,
      "outputs": []
    },
    {
      "cell_type": "code",
      "metadata": {
        "id": "YQCwVYvLuLkl"
      },
      "source": [
        "model.load_weights(CHECKPOINT+\"model_many_layers_many_nodes-06-0.909.hdf5\")"
      ],
      "execution_count": null,
      "outputs": []
    },
    {
      "cell_type": "code",
      "metadata": {
        "id": "CYaIBxZHwdql"
      },
      "source": [
        "# history = model.fit(\n",
        "#     train_datagen,\n",
        "#     epochs=1,\n",
        "#     class_weight=class_weight,\n",
        "#     callbacks=get_callbacks(\"model_many_layers_many_nodes\"),\n",
        "#     validation_data=valid_datagen)"
      ],
      "execution_count": null,
      "outputs": []
    },
    {
      "cell_type": "code",
      "metadata": {
        "id": "OqCXZs6mwx8c"
      },
      "source": [
        "def prepare_test_image(image_index, garbage_type=\"\"): # set this to an empty string unless the filename includes the garbage type\n",
        "    img = image.load_img(ROOTPATH+\"submitted_images/\"+garbage_type+str(image_index)+\".jpg\", target_size = (IMG_SIZE, IMG_SIZE))\n",
        "    img = image.img_to_array(img, 'channels_last', )\n",
        "    img = np.expand_dims(img, axis = 0)\n",
        "    img = preprocess_input(img)\n",
        "    return img"
      ],
      "execution_count": null,
      "outputs": []
    },
    {
      "cell_type": "code",
      "metadata": {
        "id": "v8pDd6ZOxbMs"
      },
      "source": [
        "def make_text_prediction2(given_model, input_image):\n",
        "    y_pred = given_model.predict(input_image)\n",
        "    predicted_categories = tf.argmax(y_pred, axis=1)\n",
        "    text_prediction = classes[predicted_categories.numpy()[0]]\n",
        "    np.set_printoptions(edgeitems=30, linewidth=100000, \n",
        "    formatter=dict(float=lambda x: \"%.3g\" % x))\n",
        "    print(f\"{y_pred}, {predicted_categories.numpy()[0]}, {text_prediction}\")"
      ],
      "execution_count": null,
      "outputs": []
    },
    {
      "cell_type": "code",
      "metadata": {
        "id": "SGEG2VyTWYWk"
      },
      "source": [
        " def make_text_prediction(given_model, input_image):\n",
        "    y_pred = given_model.predict(input_image)\n",
        "    high_to_low_index = np.argsort(-y_pred, axis=1)[0]\n",
        "    highest_index = high_to_low_index[0]\n",
        "    highest_prob = y_pred[0][highest_index]\n",
        "    second_highest_index = high_to_low_index[1]\n",
        "    second_highest_prob = y_pred[0][second_highest_index]\n",
        "    if highest_prob - second_highest_prob < 0.3:\n",
        "        print(\"Oof, this is a hard one, I'm not sure.\", end=\" \")\n",
        "    #print(f\"I'm {round(highest_prob*100, 2)}% confident that it's {classes[highest_index]} and {round(second_highest_prob*100, 2)}% confident that it's {classes[second_highest_index]}.\")\n",
        "    print(classes[highest_index])\n",
        "    print()"
      ],
      "execution_count": null,
      "outputs": []
    },
    {
      "cell_type": "code",
      "metadata": {
        "id": "YgdMNx9qp2Ft",
        "colab": {
          "base_uri": "https://localhost:8080/"
        },
        "outputId": "7413b7c8-ca35-4bcd-f5bb-b21740055dd3"
      },
      "source": [
        "num_of_test_images = 4\n",
        "for i in range(1, num_of_test_images+1):\n",
        "    print(f\"Image {i}:\", end=\" \")\n",
        "    prepared_image = prepare_test_image(i)\n",
        "    if i % 3 == 0:\n",
        "        print(phrases[random.randint(0, len(phrases)-1)], end=\" \")\n",
        "        time.sleep(3)\n",
        "        print(sounds[random.randint(0, len(sounds)-1)])\n",
        "    make_text_prediction(model, prepared_image)\n",
        "    time.sleep(7)"
      ],
      "execution_count": null,
      "outputs": [
        {
          "output_type": "stream",
          "name": "stdout",
          "text": [
            "Image 1: plastic\n",
            "\n",
            "Image 2: metal\n",
            "\n",
            "Image 3: Can't you just do this yourself? *sigh*\n",
            "glass\n",
            "\n",
            "Image 4: cardboard\n",
            "\n"
          ]
        }
      ]
    },
    {
      "cell_type": "markdown",
      "metadata": {
        "id": "ZHY0vWNX7iGd"
      },
      "source": [
        "![image.png](data:image/png;base64,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)"
      ]
    }
  ]
}